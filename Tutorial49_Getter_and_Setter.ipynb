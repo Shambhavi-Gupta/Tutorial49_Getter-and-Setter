{
  "nbformat": 4,
  "nbformat_minor": 0,
  "metadata": {
    "colab": {
      "name": "Tutorial49_Getter-and-Setter.ipynb",
      "provenance": [],
      "authorship_tag": "ABX9TyPpllhBX0Vp9F1PjDXLWvdX",
      "include_colab_link": true
    },
    "kernelspec": {
      "name": "python3",
      "display_name": "Python 3"
    }
  },
  "cells": [
    {
      "cell_type": "markdown",
      "metadata": {
        "id": "view-in-github",
        "colab_type": "text"
      },
      "source": [
        "<a href=\"https://colab.research.google.com/github/Shambhavi-Gupta/Tutorial49_Getter-and-Setter/blob/main/Tutorial49_Getter_and_Setter.ipynb\" target=\"_parent\"><img src=\"https://colab.research.google.com/assets/colab-badge.svg\" alt=\"Open In Colab\"/></a>"
      ]
    },
    {
      "cell_type": "code",
      "metadata": {
        "id": "H3dEW4f-eBqA"
      },
      "source": [
        "# class flower:\r\n",
        "#     def __init__(self):\r\n",
        "#         self.type = \"Sunflower\"\r\n",
        "#     def get_name(self):\r\n",
        "#         return self.type\r\n",
        "# f = flower()\r\n",
        "# a = f.get_name()\r\n",
        "# print(a)\r\n",
        "\r\n",
        "# class flower:\r\n",
        "#     def __init__(self):\r\n",
        "#         self.type = \"Sunflower\"\r\n",
        "#     def set_name(self):\r\n",
        "#         self.type = \"Lily\"\r\n",
        "# f = flower()\r\n",
        "# print(f.type)  #Before using\r\n",
        "# f.set_name()\r\n",
        "# print(f.type)  #After using\r\n",
        "\r\n",
        "class flower:\r\n",
        "     def set_name(self, m):\r\n",
        "         self.type = m\r\n",
        "f = flower()\r\n",
        "f.set_name(\"Lily\")\r\n",
        "print(f.type)  #After using\r\n",
        "\r\n"
      ],
      "execution_count": null,
      "outputs": []
    }
  ]
}